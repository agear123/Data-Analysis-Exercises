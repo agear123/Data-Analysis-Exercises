{
 "cells": [
  {
   "cell_type": "markdown",
   "id": "d1e7f4de",
   "metadata": {},
   "source": [
    "# Introduction"
   ]
  },
  {
   "cell_type": "markdown",
   "id": "b4becc02",
   "metadata": {},
   "source": [
    "New York City (NYC) is one of the most-visited cities in the world. As a result, there are many Airbnb listings to meet the high demand for temporary lodging for anywhere between a few nights to many months. In this notebook, the NYC Airbnb market will by analyzed by combining data from multiple file types such as .csv, .tsv, and .xlsx."
   ]
  },
  {
   "cell_type": "markdown",
   "id": "4c017736",
   "metadata": {},
   "source": [
    "Three datasets will be used for this analysis:\n",
    "\n",
    "\"airbnb_price.csv\"\n",
    "\n",
    "\"airbnb_room_type.xlsx\"\n",
    "\n",
    "\"airbnb_last_review.tsv\""
   ]
  },
  {
   "cell_type": "markdown",
   "id": "9902279a",
   "metadata": {},
   "source": [
    "The goals of this analysis will be to convert untidy data into appropriate formats for analysis, and answer key questions including:\n",
    "\n",
    "What is the average price, per night, of an Airbnb listing in NYC?\n",
    "\n",
    "How does the average price of an Airbnb listing, per month, compare to the private rental market?\n",
    "\n",
    "How many adverts are for private rooms?\n",
    "\n",
    "How do Airbnb listing prices compare across the five NYC boroughs?"
   ]
  },
  {
   "cell_type": "markdown",
   "id": "fa2ab4cb",
   "metadata": {},
   "source": [
    "# 1. Importing the Data"
   ]
  },
  {
   "cell_type": "code",
   "execution_count": 17,
   "id": "7133562c",
   "metadata": {},
   "outputs": [
    {
     "name": "stdout",
     "output_type": "stream",
     "text": [
      "   listing_id        price                nbhood_full\n",
      "0        2595  225 dollars         Manhattan, Midtown\n",
      "1        3831   89 dollars     Brooklyn, Clinton Hill\n",
      "2        5099  200 dollars     Manhattan, Murray Hill\n",
      "3        5178   79 dollars  Manhattan, Hell's Kitchen\n",
      "4        5238  150 dollars       Manhattan, Chinatown \n",
      "    listing_id                                description        room_type\n",
      "0        2595                      Skylit Midtown Castle  Entire home/apt\n",
      "1        3831            Cozy Entire Floor of Brownstone  Entire home/apt\n",
      "2        5099  Large Cozy 1 BR Apartment In Midtown East  Entire home/apt\n",
      "3        5178            Large Furnished Room Near B'way     private room\n",
      "4        5238         Cute & Cozy Lower East Side 1 bdrm  Entire home/apt \n",
      "    listing_id    host_name   last_review\n",
      "0        2595     Jennifer   May 21 2019\n",
      "1        3831  LisaRoxanne  July 05 2019\n",
      "2        5099        Chris  June 22 2019\n",
      "3        5178     Shunichi  June 24 2019\n",
      "4        5238          Ben  June 09 2019\n"
     ]
    }
   ],
   "source": [
    "# Import necessary packages\n",
    "import pandas as pd\n",
    "import numpy as np\n",
    "import datetime as dt\n",
    "\n",
    "# Load airbnb_price.csv, prices\n",
    "prices = pd.read_csv('airbnb_price.csv')\n",
    "\n",
    "# Load airbnb_room_type.xlsx, xls\n",
    "xls = pd.ExcelFile(\"airbnb_room_type.xlsx\")\n",
    "\n",
    "# Parse the first sheet from xls, room_types\n",
    "room_types = xls.parse(0)\n",
    "\n",
    "# Load airbnb_last_review.tsv, reviews\n",
    "reviews = pd.read_csv('airbnb_last_review.tsv', sep = '\\t')\n",
    "\n",
    "# Print the first five rows of each DataFrame\n",
    "print(prices.head(), \"\\n\", room_types.head(), \"\\n\", reviews.head())"
   ]
  },
  {
   "cell_type": "markdown",
   "id": "ece90fbb",
   "metadata": {},
   "source": [
    "# 2. Cleaning the price column"
   ]
  },
  {
   "cell_type": "markdown",
   "id": "6702d82a",
   "metadata": {},
   "source": [
    "Now the DataFrames have been loaded, the first step is to calculate the average price per listing by room_type.\n",
    "\n",
    "The price column in the prices DataFrame currently states each value as a string with the currency (dollars) following, i.e.,\n",
    "\n",
    "price\n",
    "\n",
    "225 dollars\n",
    "\n",
    "89 dollars\n",
    "\n",
    "200 dollars\n",
    "\n",
    "The price column will need to be cleaned in order to calculate the average price."
   ]
  },
  {
   "cell_type": "code",
   "execution_count": 18,
   "id": "b92c3aa2",
   "metadata": {},
   "outputs": [
    {
     "name": "stdout",
     "output_type": "stream",
     "text": [
      "count    25209.000000\n",
      "mean       141.777936\n",
      "std        147.349137\n",
      "min          0.000000\n",
      "25%         69.000000\n",
      "50%        105.000000\n",
      "75%        175.000000\n",
      "max       7500.000000\n",
      "Name: price, dtype: float64\n"
     ]
    }
   ],
   "source": [
    "# Remove whitespace and string characters from prices column\n",
    "prices[\"price\"] = prices[\"price\"].str.replace(\" dollars\", \"\")\n",
    "\n",
    "# Convert prices column to numeric datatype\n",
    "prices[\"price\"] = pd.to_numeric(prices[\"price\"])\n",
    "\n",
    "# Print descriptive statistics for the price column\n",
    "print(prices[\"price\"].describe())"
   ]
  },
  {
   "cell_type": "code",
   "execution_count": 180,
   "id": "c1019cdb",
   "metadata": {},
   "outputs": [
    {
     "data": {
      "image/png": "[encoded data removed]",
      "text/plain": [
       "<Figure size 360x360 with 1 Axes>"
      ]
     },
     "metadata": {
      "needs_background": "light"
     },
     "output_type": "display_data"
    }
   ],
   "source": [
    "# Create boxplot displaying distribution of prices without outliers\n",
    "g = sns.catplot(y = 'price', data = prices, kind = 'box', sym = \"\", color = 'c')\n",
    "g.set_axis_labels('', 'Price')\n",
    "plt.show()"
   ]
  },
  {
   "cell_type": "code",
   "execution_count": 183,
   "id": "b62252c4",
   "metadata": {},
   "outputs": [
    {
     "data": {
      "image/png": "[encoded data removed]",
      "text/plain": [
       "<Figure size 432x288 with 1 Axes>"
      ]
     },
     "metadata": {
      "needs_background": "light"
     },
     "output_type": "display_data"
    }
   ],
   "source": [
    "# Create histogram displaying price distribution among listings with a log transformation of the price column\n",
    "fig, ax = plt.subplots()\n",
    "ax.hist(price_series, bins = 25, color = 'g')\n",
    "ax.set_xlabel('log Price')\n",
    "ax.set_ylabel('Count')\n",
    "ax.set_title('log Price Distribution of Listings')\n",
    "plt.show()\n"
   ]
  },
  {
   "cell_type": "markdown",
   "id": "3ac37235",
   "metadata": {},
   "source": [
    "# 3. Calculating average price"
   ]
  },
  {
   "cell_type": "markdown",
   "id": "11884563",
   "metadata": {},
   "source": [
    "Three quarters of listings cost $175 per night or less.\n",
    "\n",
    "However, there are some outliers including a maximum price of $7,500 per night!\n",
    "\n",
    "Some of the listings are actually showing as free. This doesn't make sense. These outlier values will be removed from the DataFrame, then the average price per night for an Airbnb listing will be calculated."
   ]
  },
  {
   "cell_type": "code",
   "execution_count": 19,
   "id": "f5c9ec0f",
   "metadata": {},
   "outputs": [
    {
     "name": "stdout",
     "output_type": "stream",
     "text": [
      "The average price per night for an Airbnb listing in NYC is $141.82.\n"
     ]
    }
   ],
   "source": [
    "# Subset prices for listings costing $0, free_listings\n",
    "free_listings = prices[\"price\"] == 0\n",
    "\n",
    "# Update prices by removing all free listings from prices\n",
    "prices = prices.loc[~free_listings]\n",
    "\n",
    "# Calculate the average price, avg_price\n",
    "avg_price = round(prices[\"price\"].mean(), 2)\n",
    "\n",
    "# Print the average price\n",
    "print(\"The average price per night for an Airbnb listing in NYC is ${}.\".format(avg_price))"
   ]
  },
  {
   "cell_type": "markdown",
   "id": "360e3c86",
   "metadata": {},
   "source": [
    "# 4. Comparing costs to the private rental market"
   ]
  },
  {
   "cell_type": "markdown",
   "id": "c5f3fbff",
   "metadata": {},
   "source": [
    "Now that the average, per night listing cost of an NYC Airbnb is known, it would be useful to have a benchmark for comparison. According to Zumper, a 1 bedroom apartment in New York City costs, on average, $3,100 per month. Converting the per night prices of the listings into monthly costs will allow a comparison to the private rental market."
   ]
  },
  {
   "cell_type": "code",
   "execution_count": 20,
   "id": "6b8d1846",
   "metadata": {},
   "outputs": [
    {
     "name": "stdout",
     "output_type": "stream",
     "text": [
      "airbnb monthly costs are $4313.61, while in the private market you would pay $3,100.00.\n"
     ]
    }
   ],
   "source": [
    "# Add a new column to the prices DataFrame, price_per_month\n",
    "prices[\"price_per_month\"] = prices[\"price\"] * 365 / 12\n",
    "\n",
    "# Calculate average_price_per_month\n",
    "average_price_per_month = round(prices['price_per_month'].mean(), 2)\n",
    "\n",
    "# Compare Airbnb and rental market\n",
    "print(\"airbnb monthly costs are ${}, while in the private market you would pay {}.\".format(average_price_per_month, \"$3,100.00\"))"
   ]
  },
  {
   "cell_type": "markdown",
   "id": "67afc18a",
   "metadata": {},
   "source": [
    "# 5. Cleaning the room type column"
   ]
  },
  {
   "cell_type": "markdown",
   "id": "ced7a2ca",
   "metadata": {},
   "source": [
    "Using Airbnb appears to be substantially more expensive than the private rental market. It should be considered, however, that these Airbnb listings include single private rooms or even rooms to share, as well as entire homes/apartments.\n",
    "\n",
    "The room_type column should be explored in order to find out the breakdown of listings by type of room. The room_type column has several variations for private room listings, specifically:\n",
    "\n",
    "\"Private room\"\n",
    "\n",
    "\"private room\"\n",
    "\n",
    "\"PRIVATE ROOM\"\n",
    "\n",
    "This can be dealt with by converting all string characters to lower case."
   ]
  },
  {
   "cell_type": "code",
   "execution_count": 21,
   "id": "858ce9a6",
   "metadata": {},
   "outputs": [
    {
     "name": "stdout",
     "output_type": "stream",
     "text": [
      "entire home/apt    13266\n",
      "private room       11356\n",
      "shared room          587\n",
      "Name: room_type, dtype: int64\n"
     ]
    }
   ],
   "source": [
    "# Convert the room_type column to lowercase\n",
    "room_types[\"room_type\"] = room_types[\"room_type\"].str.lower()\n",
    "\n",
    "# Update the room_type column to category data type\n",
    "room_types[\"room_type\"] = room_types[\"room_type\"].astype(\"category\")\n",
    "\n",
    "# Create the variable room_frequencies\n",
    "room_frequencies = room_types[\"room_type\"].value_counts()\n",
    "\n",
    "# Print room_frequencies\n",
    "print(room_frequencies)"
   ]
  },
  {
   "cell_type": "code",
   "execution_count": 191,
   "id": "db75c20e",
   "metadata": {},
   "outputs": [
    {
     "data": {
      "image/png": "[encoded data removed]",
      "text/plain": [
       "<Figure size 432x288 with 1 Axes>"
      ]
     },
     "metadata": {
      "needs_background": "light"
     },
     "output_type": "display_data"
    }
   ],
   "source": [
    "# Create bar plot for count of listings broken down by room type\n",
    "import matplotlib.pyplot as plt\n",
    "import seaborn as sns\n",
    "\n",
    "g = sns.countplot(x = room_types[\"room_type\"], data = room_types, color = 'c')\n",
    "g.set_title('Count of Listings by Room Type')\n",
    "plt.show()"
   ]
  },
  {
   "cell_type": "markdown",
   "id": "a3a6355a",
   "metadata": {},
   "source": [
    "# 6. What about the timeframe?"
   ]
  },
  {
   "cell_type": "markdown",
   "id": "c79a1c58",
   "metadata": {},
   "source": [
    "There seems to be a fairly similar sized market opportunity for both private rooms (45% of listings) and entire homes/apartments (52%) on the Airbnb platform in NYC.\n",
    "\n",
    "\n",
    "Examining the reviews DataFrame, the last_review column contains the date of the last review in the format of \"Month Day Year\" e.g., May 21 2019. The earliest and latest review dates in the DataFrame will be examined in order to ensure the format allows this analysis to be easily conducted going forward."
   ]
  },
  {
   "cell_type": "code",
   "execution_count": 6,
   "id": "393628c3",
   "metadata": {},
   "outputs": [
    {
     "name": "stdout",
     "output_type": "stream",
     "text": [
      "The latest Airbnb review is 2019-07-09, the earliest review is 2019-01-01\n"
     ]
    }
   ],
   "source": [
    "# Change the data type of the last_review column to datetime\n",
    "reviews[\"last_review\"] = pd.to_datetime(reviews[\"last_review\"])\n",
    "\n",
    "# Create first_reviewed, the earliest review date\n",
    "first_reviewed = reviews[\"last_review\"].dt.date.min()\n",
    "\n",
    "# Create last_reviewed, the most recent review date\n",
    "last_reviewed = reviews[\"last_review\"].dt.date.max()\n",
    "\n",
    "# Print the oldest and newest reviews from the DataFrame\n",
    "print(\"The latest Airbnb review is {}, the earliest review is {}\".format(last_reviewed, first_reviewed))"
   ]
  },
  {
   "cell_type": "markdown",
   "id": "a8692911",
   "metadata": {},
   "source": [
    "# 7. Joining the DataFrames."
   ]
  },
  {
   "cell_type": "markdown",
   "id": "37f56594",
   "metadata": {},
   "source": [
    "Now that the information needed has been extracted, the three DataFrames will be merged in order to make any future analysis easier to conduct. Once the data has been joined, any observations with missing values will be removed. Then the dataframe will be checked for any duplicate values. "
   ]
  },
  {
   "cell_type": "code",
   "execution_count": 7,
   "id": "ea866f57",
   "metadata": {},
   "outputs": [
    {
     "name": "stdout",
     "output_type": "stream",
     "text": [
      "There are 0 duplicates in the DataFrame.\n"
     ]
    }
   ],
   "source": [
    "# Merge prices and room_types to create rooms_and_prices\n",
    "rooms_and_prices = prices.merge(room_types, how= 'outer', on= 'listing_id')\n",
    "\n",
    "# Merge rooms_and_prices with the reviews DataFrame to create airbnb_merged\n",
    "airbnb_merged = rooms_and_prices.merge(reviews, how = 'outer', on = 'listing_id')\n",
    "\n",
    "# Drop missing values from airbnb_merged\n",
    "airbnb_merged.dropna(inplace = True)\n",
    "\n",
    "# Check if there are any duplicate values\n",
    "print(\"There are {} duplicates in the DataFrame.\".format(airbnb_merged.duplicated().sum()))"
   ]
  },
  {
   "cell_type": "code",
   "execution_count": 38,
   "id": "c8f1ecc9",
   "metadata": {},
   "outputs": [
    {
     "data": {
      "text/html": [
       "<div>\n",
       "<style scoped>\n",
       "    .dataframe tbody tr th:only-of-type {\n",
       "        vertical-align: middle;\n",
       "    }\n",
       "\n",
       "    .dataframe tbody tr th {\n",
       "        vertical-align: top;\n",
       "    }\n",
       "\n",
       "    .dataframe thead th {\n",
       "        text-align: right;\n",
       "    }\n",
       "</style>\n",
       "<table border=\"1\" class=\"dataframe\">\n",
       "  <thead>\n",
       "    <tr style=\"text-align: right;\">\n",
       "      <th></th>\n",
       "      <th>listing_id</th>\n",
       "      <th>price</th>\n",
       "      <th>nbhood_full</th>\n",
       "      <th>price_per_month</th>\n",
       "      <th>description</th>\n",
       "      <th>room_type</th>\n",
       "      <th>host_name</th>\n",
       "      <th>last_review</th>\n",
       "      <th>borough</th>\n",
       "      <th>price_range</th>\n",
       "    </tr>\n",
       "  </thead>\n",
       "  <tbody>\n",
       "    <tr>\n",
       "      <th>0</th>\n",
       "      <td>2595</td>\n",
       "      <td>225.0</td>\n",
       "      <td>Manhattan, Midtown</td>\n",
       "      <td>6843.750000</td>\n",
       "      <td>Skylit Midtown Castle</td>\n",
       "      <td>entire home/apt</td>\n",
       "      <td>Jennifer</td>\n",
       "      <td>2019-05-21</td>\n",
       "      <td>Manhattan</td>\n",
       "      <td>Expensive</td>\n",
       "    </tr>\n",
       "    <tr>\n",
       "      <th>1</th>\n",
       "      <td>3831</td>\n",
       "      <td>89.0</td>\n",
       "      <td>Brooklyn, Clinton Hill</td>\n",
       "      <td>2707.083333</td>\n",
       "      <td>Cozy Entire Floor of Brownstone</td>\n",
       "      <td>entire home/apt</td>\n",
       "      <td>LisaRoxanne</td>\n",
       "      <td>2019-07-05</td>\n",
       "      <td>Brooklyn</td>\n",
       "      <td>Average</td>\n",
       "    </tr>\n",
       "    <tr>\n",
       "      <th>2</th>\n",
       "      <td>5099</td>\n",
       "      <td>200.0</td>\n",
       "      <td>Manhattan, Murray Hill</td>\n",
       "      <td>6083.333333</td>\n",
       "      <td>Large Cozy 1 BR Apartment In Midtown East</td>\n",
       "      <td>entire home/apt</td>\n",
       "      <td>Chris</td>\n",
       "      <td>2019-06-22</td>\n",
       "      <td>Manhattan</td>\n",
       "      <td>Expensive</td>\n",
       "    </tr>\n",
       "    <tr>\n",
       "      <th>3</th>\n",
       "      <td>5178</td>\n",
       "      <td>79.0</td>\n",
       "      <td>Manhattan, Hell's Kitchen</td>\n",
       "      <td>2402.916667</td>\n",
       "      <td>Large Furnished Room Near B'way</td>\n",
       "      <td>private room</td>\n",
       "      <td>Shunichi</td>\n",
       "      <td>2019-06-24</td>\n",
       "      <td>Manhattan</td>\n",
       "      <td>Average</td>\n",
       "    </tr>\n",
       "    <tr>\n",
       "      <th>4</th>\n",
       "      <td>5238</td>\n",
       "      <td>150.0</td>\n",
       "      <td>Manhattan, Chinatown</td>\n",
       "      <td>4562.500000</td>\n",
       "      <td>Cute &amp; Cozy Lower East Side 1 bdrm</td>\n",
       "      <td>entire home/apt</td>\n",
       "      <td>Ben</td>\n",
       "      <td>2019-06-09</td>\n",
       "      <td>Manhattan</td>\n",
       "      <td>Average</td>\n",
       "    </tr>\n",
       "  </tbody>\n",
       "</table>\n",
       "</div>"
      ],
      "text/plain": [
       "   listing_id  price                nbhood_full  price_per_month  \\\n",
       "0        2595  225.0         Manhattan, Midtown      6843.750000   \n",
       "1        3831   89.0     Brooklyn, Clinton Hill      2707.083333   \n",
       "2        5099  200.0     Manhattan, Murray Hill      6083.333333   \n",
       "3        5178   79.0  Manhattan, Hell's Kitchen      2402.916667   \n",
       "4        5238  150.0       Manhattan, Chinatown      4562.500000   \n",
       "\n",
       "                                 description        room_type    host_name  \\\n",
       "0                      Skylit Midtown Castle  entire home/apt     Jennifer   \n",
       "1            Cozy Entire Floor of Brownstone  entire home/apt  LisaRoxanne   \n",
       "2  Large Cozy 1 BR Apartment In Midtown East  entire home/apt        Chris   \n",
       "3            Large Furnished Room Near B'way     private room     Shunichi   \n",
       "4         Cute & Cozy Lower East Side 1 bdrm  entire home/apt          Ben   \n",
       "\n",
       "  last_review    borough price_range  \n",
       "0  2019-05-21  Manhattan   Expensive  \n",
       "1  2019-07-05   Brooklyn     Average  \n",
       "2  2019-06-22  Manhattan   Expensive  \n",
       "3  2019-06-24  Manhattan     Average  \n",
       "4  2019-06-09  Manhattan     Average  "
      ]
     },
     "execution_count": 38,
     "metadata": {},
     "output_type": "execute_result"
    }
   ],
   "source": [
    "airbnb_merged.head()"
   ]
  },
  {
   "cell_type": "markdown",
   "id": "b58294f9",
   "metadata": {},
   "source": [
    "# 8. Analyzing listing prices by NYC borough"
   ]
  },
  {
   "cell_type": "markdown",
   "id": "046827fa",
   "metadata": {},
   "source": [
    "Now that all data has been combined into a single DataFrame, differences in listing prices between New York City boroughs will be examined. The boroughs are currently listed as the first part of a string within the nbhood_full column, e.g.,\n",
    "\n",
    "Manhattan, Midtown\n",
    "\n",
    "Brooklyn, Clinton Hill\n",
    "\n",
    "Manhattan, Murray Hill\n",
    "\n",
    "Manhattan, Hell's Kitchen\n",
    "\n",
    "Manhattan, Chinatown\n",
    "\n",
    "This information will be extracted from the string and stored in a new column, borough, for analysis."
   ]
  },
  {
   "cell_type": "code",
   "execution_count": 165,
   "id": "575c212b",
   "metadata": {},
   "outputs": [
    {
     "name": "stdout",
     "output_type": "stream",
     "text": [
      "                     sum    mean  median  count\n",
      "borough                                        \n",
      "Manhattan      1898417.0  184.04   149.0  10315\n",
      "Brooklyn       1275250.0  122.02    95.0  10451\n",
      "Queens          320715.0   92.83    70.0   3455\n",
      "Staten Island    22974.0   86.04    71.0    267\n",
      "Bronx            55156.0   79.25    65.0    696\n"
     ]
    }
   ],
   "source": [
    "# Extract information from the nbhood_full column and store as a new column, borough\n",
    "airbnb_merged[\"borough\"] = airbnb_merged[\"nbhood_full\"].str.partition(\",\")[0]\n",
    "\n",
    "# Group by borough and calculate summary statistics\n",
    "boroughs = airbnb_merged.groupby(\"borough\")[\"price\"].agg([\"sum\", \"mean\", \"median\", \"count\"])\n",
    "\n",
    "# Round boroughs to 2 decimal places, and sort by mean in descending order\n",
    "boroughs = boroughs.round(2).sort_values(\"mean\", ascending= False)\n",
    "\n",
    "# Print boroughs\n",
    "print(boroughs)"
   ]
  },
  {
   "cell_type": "code",
   "execution_count": 168,
   "id": "406dcff9",
   "metadata": {},
   "outputs": [],
   "source": [
    "# Needed to reset index in order to pass borough column to plot function\n",
    "boroughs.reset_index(inplace = True, drop = False)"
   ]
  },
  {
   "cell_type": "code",
   "execution_count": 176,
   "id": "9394331c",
   "metadata": {},
   "outputs": [
    {
     "data": {
      "text/plain": [
       "Text(0, 0.5, 'Count')"
      ]
     },
     "execution_count": 176,
     "metadata": {},
     "output_type": "execute_result"
    },
    {
     "data": {
      "image/png": "[encoded data removed]",
      "text/plain": [
       "<Figure size 432x288 with 1 Axes>"
      ]
     },
     "metadata": {
      "needs_background": "light"
     },
     "output_type": "display_data"
    }
   ],
   "source": [
    "# Create count plot of number of listings in each borough\n",
    "g = sns.barplot(x = 'borough', y = 'count', data = boroughs)\n",
    "g.set_title('Count of Listings by Borough')\n",
    "g.set_xlabel('Borough')\n",
    "g.set_ylabel('Count')"
   ]
  },
  {
   "cell_type": "markdown",
   "id": "0cae11c4",
   "metadata": {},
   "source": [
    "# 9. Price range by borough"
   ]
  },
  {
   "cell_type": "markdown",
   "id": "d8374e44",
   "metadata": {},
   "source": [
    "The above output provides a summary of prices for listings across the 5 boroughs. In this final task listings will be categorized based on whether they fall into specific price ranges. This information will be broken down by borough.\n",
    "\n",
    "This can be done using percentiles and labels to create a new column, price_range, in the DataFrame. Once the labels have been created, the data can be grouped and frequencies can be counted for listings in each price range by borough.\n",
    "\n",
    "The following categories and price ranges will be assigned:\n",
    "\n",
    "Budget:      $ 0-69\n",
    "\n",
    "Average:     $ 70-175\n",
    "\n",
    "Expensive:   $ 176-350\n",
    "\n",
    "Extravagant: $ 350+"
   ]
  },
  {
   "cell_type": "code",
   "execution_count": 9,
   "id": "07511e3a",
   "metadata": {
    "scrolled": true
   },
   "outputs": [
    {
     "name": "stdout",
     "output_type": "stream",
     "text": [
      "borough        price_range\n",
      "Bronx          Budget          381\n",
      "               Average         285\n",
      "               Expensive        25\n",
      "               Extravagant       5\n",
      "Brooklyn       Budget         3194\n",
      "               Average        5532\n",
      "               Expensive      1466\n",
      "               Extravagant     259\n",
      "Manhattan      Budget         1148\n",
      "               Average        5285\n",
      "               Expensive      3072\n",
      "               Extravagant     810\n",
      "Queens         Budget         1631\n",
      "               Average        1505\n",
      "               Expensive       291\n",
      "               Extravagant      28\n",
      "Staten Island  Budget          124\n",
      "               Average         123\n",
      "               Expensive        20\n",
      "               Extravagant       0\n",
      "Name: price_range, dtype: int64\n"
     ]
    }
   ],
   "source": [
    "# Create labels for the price range, label_names\n",
    "label_names = ['Budget', 'Average', 'Expensive', 'Extravagant']\n",
    "\n",
    "# Create the label ranges, ranges\n",
    "ranges = [0, 69, 175, 350, np.inf]\n",
    "\n",
    "# Insert new column, price_range, into DataFrame\n",
    "airbnb_merged[\"price_range\"] = pd.cut(airbnb_merged[\"price\"], bins= ranges, labels= label_names)\n",
    "\n",
    "# Calculate borough and price_range frequencies, prices_by_borough\n",
    "prices_by_borough = airbnb_merged.groupby(['borough', 'price_range'])['price_range'].count()\n",
    "print(prices_by_borough)"
   ]
  },
  {
   "cell_type": "code",
   "execution_count": 207,
   "id": "89276d28",
   "metadata": {},
   "outputs": [],
   "source": [
    "# Convert price_by_borough series to dataframe\n",
    "data = {'price_category_count': prices_by_borough}\n",
    "price_df = pd.DataFrame.from_dict(data)\n"
   ]
  },
  {
   "cell_type": "code",
   "execution_count": 208,
   "id": "d90395e0",
   "metadata": {},
   "outputs": [
    {
     "data": {
      "text/plain": [
       "RangeIndex(start=0, stop=20, step=1)"
      ]
     },
     "execution_count": 208,
     "metadata": {},
     "output_type": "execute_result"
    }
   ],
   "source": [
    "# Reset index so borough and price_range can be incorporated into barplot\n",
    "price_df.reset_index(inplace = True, drop = False)\n",
    "price_df.index"
   ]
  },
  {
   "cell_type": "code",
   "execution_count": 211,
   "id": "d7a2498b",
   "metadata": {},
   "outputs": [
    {
     "data": {
      "text/plain": [
       "Text(0, 0.5, 'Count')"
      ]
     },
     "execution_count": 211,
     "metadata": {},
     "output_type": "execute_result"
    },
    {
     "data": {
      "image/png": "[encoded data removed]",
      "text/plain": [
       "<Figure size 432x288 with 1 Axes>"
      ]
     },
     "metadata": {
      "needs_background": "light"
     },
     "output_type": "display_data"
    }
   ],
   "source": [
    "# Create barplot showing counts of listings broken down by price range category and borough\n",
    "g = sns.barplot(x = 'borough', y = 'price_category_count', hue = 'price_range', data = price_df)\n",
    "g.set_title('Count of Listings by Borough and Price Category')\n",
    "g.set_xlabel('Borough')\n",
    "g.set_ylabel('Count')"
   ]
  },
  {
   "cell_type": "markdown",
   "id": "e91bde9c",
   "metadata": {},
   "source": [
    "# Conclusion"
   ]
  },
  {
   "cell_type": "markdown",
   "id": "5d92a11b",
   "metadata": {},
   "source": [
    "From the output above it appears that Manhattan has by far the most listings that fall under the Expensive and Extravagent price ranges. Staten Island has the lowest Airbnb rental prices overall. "
   ]
  }
 ],
 "metadata": {
  "kernelspec": {
   "display_name": "Python 3 (ipykernel)",
   "language": "python",
   "name": "python3"
  },
  "language_info": {
   "codemirror_mode": {
    "name": "ipython",
    "version": 3
   },
   "file_extension": ".py",
   "mimetype": "text/x-python",
   "name": "python",
   "nbconvert_exporter": "python",
   "pygments_lexer": "ipython3",
   "version": "3.9.12"
  }
 },
 "nbformat": 4,
 "nbformat_minor": 5
}
